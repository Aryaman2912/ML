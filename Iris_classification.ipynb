{
  "nbformat": 4,
  "nbformat_minor": 0,
  "metadata": {
    "colab": {
      "name": "Iris_classification.ipynb",
      "provenance": [],
      "collapsed_sections": [],
      "authorship_tag": "ABX9TyPlrhN4vrpxNfeI0UXslWWq",
      "include_colab_link": true
    },
    "kernelspec": {
      "name": "python3",
      "display_name": "Python 3"
    }
  },
  "cells": [
    {
      "cell_type": "markdown",
      "metadata": {
        "id": "view-in-github",
        "colab_type": "text"
      },
      "source": [
        "<a href=\"https://colab.research.google.com/github/Aryaman2912/ML/blob/master/Iris_classification.ipynb\" target=\"_parent\"><img src=\"https://colab.research.google.com/assets/colab-badge.svg\" alt=\"Open In Colab\"/></a>"
      ]
    },
    {
      "cell_type": "code",
      "metadata": {
        "id": "P-EEmD0Xit1U"
      },
      "source": [
        "#Import necessary libraries\n",
        "import numpy as np\n",
        "import pandas as pd\n",
        "import matplotlib.pyplot as plt\n",
        "import scipy\n",
        "import sklearn\n",
        "\n",
        "%matplotlib inline"
      ],
      "execution_count": 63,
      "outputs": []
    },
    {
      "cell_type": "code",
      "metadata": {
        "id": "RqmRwJKTFs7I"
      },
      "source": [
        "# Fetch dataset\n",
        "from sklearn import datasets\n",
        "iris = datasets.load_iris()"
      ],
      "execution_count": 64,
      "outputs": []
    },
    {
      "cell_type": "code",
      "metadata": {
        "id": "NHl7sgwYfPdq"
      },
      "source": [
        "# Split data and targets, normalize data\n",
        "from sklearn.preprocessing import StandardScaler\n",
        "X = iris.data\n",
        "y = iris.target\n",
        "scaler = StandardScaler()\n",
        "X = scaler.fit_transform(X)"
      ],
      "execution_count": 65,
      "outputs": []
    },
    {
      "cell_type": "code",
      "metadata": {
        "id": "3P9R7NWRfYES"
      },
      "source": [
        "# Split the dataset into training and test sets\n",
        "from sklearn.model_selection import train_test_split\n",
        "X_train,X_test,y_train,y_test = train_test_split(X,y,test_size=0.2)"
      ],
      "execution_count": 66,
      "outputs": []
    },
    {
      "cell_type": "code",
      "metadata": {
        "colab": {
          "base_uri": "https://localhost:8080/"
        },
        "id": "NKrQdnT8g4qS",
        "outputId": "56137b01-93c9-4201-82b2-5d860d56762c"
      },
      "source": [
        "# Softmax regression\n",
        "from sklearn.linear_model import LogisticRegression\n",
        "from sklearn.metrics import accuracy_score\n",
        "softman_reg = LogisticRegression(multi_class='multinomial',solver='lbfgs',C=10)\n",
        "softmax_reg.fit(X_train,y_train)\n",
        "predictions = softmax_reg.predict(X_test)\n",
        "print(f'Accuracy on the test set using softmax regression is {accuracy_score(predictions,y_test)}')"
      ],
      "execution_count": 67,
      "outputs": [
        {
          "output_type": "stream",
          "text": [
            "Accuracy on the test set using softmax regression is 0.9333333333333333\n"
          ],
          "name": "stdout"
        }
      ]
    },
    {
      "cell_type": "code",
      "metadata": {
        "colab": {
          "base_uri": "https://localhost:8080/"
        },
        "id": "00p2ftV5n4u8",
        "outputId": "bb342146-0a2c-4b3b-e355-365b63c11707"
      },
      "source": [
        "# Decision tree regressor\n",
        "from sklearn.tree import DecisionTreeRegressor\n",
        "decision_tree = DecisionTreeRegressor()\n",
        "decision_tree.fit(X_train,y_train)\n",
        "predictions = decision_tree.predict(X_test)\n",
        "print(f'Accuracy on the test set using decision tree regressor is {accuracy_score(predictions,y_test)}')"
      ],
      "execution_count": 68,
      "outputs": [
        {
          "output_type": "stream",
          "text": [
            "Accuracy on the test set using decision tree regressor is 0.9333333333333333\n"
          ],
          "name": "stdout"
        }
      ]
    }
  ]
}