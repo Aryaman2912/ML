{
  "nbformat": 4,
  "nbformat_minor": 0,
  "metadata": {
    "colab": {
      "name": "MNIST_Classification.ipynb",
      "provenance": [],
      "collapsed_sections": [],
      "authorship_tag": "ABX9TyMh3UcPzobSG5yhL0WNqv4L",
      "include_colab_link": true
    },
    "kernelspec": {
      "name": "python3",
      "display_name": "Python 3"
    },
    "accelerator": "GPU"
  },
  "cells": [
    {
      "cell_type": "markdown",
      "metadata": {
        "id": "view-in-github",
        "colab_type": "text"
      },
      "source": [
        "<a href=\"https://colab.research.google.com/github/Aryaman2912/ML/blob/master/MNIST_Classification.ipynb\" target=\"_parent\"><img src=\"https://colab.research.google.com/assets/colab-badge.svg\" alt=\"Open In Colab\"/></a>"
      ]
    },
    {
      "cell_type": "code",
      "metadata": {
        "id": "QDfuMtcoTXKm"
      },
      "source": [
        "# Import necessary libraries and packages\n",
        "import numpy as np\n",
        "import pandas as pd\n",
        "import sklearn\n",
        "import matplotlib as mpl\n",
        "import matplotlib.pyplot as plt\n",
        "import scipy\n",
        "\n",
        "%matplotlib inline"
      ],
      "execution_count": 1,
      "outputs": []
    },
    {
      "cell_type": "code",
      "metadata": {
        "id": "dIzG3KyRkNfW"
      },
      "source": [
        "# Methods and functions necessary\n",
        "from sklearn.linear_model import SGDClassifier\n",
        "from sklearn.model_selection import StratifiedKFold,cross_val_score,cross_val_predict\n",
        "from sklearn.base import clone\n",
        "from sklearn.datasets import fetch_openml\n",
        "from sklearn.metrics import confusion_matrix,precision_score,recall_score,precision_recall_curve,roc_curve,roc_auc_score,f1_score\n",
        "from sklearn.ensemble import RandomForestClassifier\n",
        "from sklearn.preprocessing import StandardScaler\n",
        "from sklearn.neighbors import KNeighborsClassifier"
      ],
      "execution_count": 2,
      "outputs": []
    },
    {
      "cell_type": "code",
      "metadata": {
        "id": "Gcow320YUGiO",
        "outputId": "19843ca5-3bd4-4092-a069-fdd34d236d98",
        "colab": {
          "base_uri": "https://localhost:8080/",
          "height": 34
        }
      },
      "source": [
        "# Fetch dataset\n",
        "mnist = fetch_openml('mnist_784',version=1)\n",
        "mnist.keys()\n"
      ],
      "execution_count": 3,
      "outputs": [
        {
          "output_type": "execute_result",
          "data": {
            "text/plain": [
              "dict_keys(['data', 'target', 'frame', 'feature_names', 'target_names', 'DESCR', 'details', 'categories', 'url'])"
            ]
          },
          "metadata": {
            "tags": []
          },
          "execution_count": 3
        }
      ]
    },
    {
      "cell_type": "code",
      "metadata": {
        "id": "Cvb_sfCuUgJu",
        "outputId": "695284c0-05aa-4a23-83d1-65d208acd493",
        "colab": {
          "base_uri": "https://localhost:8080/",
          "height": 50
        }
      },
      "source": [
        "# X is the set of images and y is the set of labels\n",
        "X,y = mnist[\"data\"],mnist['target']\n",
        "y = y.astype(np.uint8)             # Convert y from string to int \n",
        "print(X.shape,'\\n',y.shape)"
      ],
      "execution_count": 4,
      "outputs": [
        {
          "output_type": "stream",
          "text": [
            "(70000, 784) \n",
            " (70000,)\n"
          ],
          "name": "stdout"
        }
      ]
    },
    {
      "cell_type": "code",
      "metadata": {
        "id": "pUXxv1YzYKm6",
        "outputId": "fb812699-1390-408c-add9-f90616bc28f8",
        "colab": {
          "base_uri": "https://localhost:8080/",
          "height": 282
        }
      },
      "source": [
        "# Display an image\n",
        "digit = X[0]\n",
        "digit_pic = digit.reshape(28,28)\n",
        "plt.imshow(digit_pic,cmap = mpl.cm.binary,interpolation=\"nearest\") \n",
        "y[0]"
      ],
      "execution_count": 5,
      "outputs": [
        {
          "output_type": "execute_result",
          "data": {
            "text/plain": [
              "5"
            ]
          },
          "metadata": {
            "tags": []
          },
          "execution_count": 5
        },
        {
          "output_type": "display_data",
          "data": {
            "image/png": "[encoded data removed]",
            "text/plain": [
              "<Figure size 432x288 with 1 Axes>"
            ]
          },
          "metadata": {
            "tags": [],
            "needs_background": "light"
          }
        }
      ]
    },
    {
      "cell_type": "code",
      "metadata": {
        "id": "Bnb8DX0Fb2JQ"
      },
      "source": [
        "# Train test split\n",
        "X_train,X_test,y_train,y_test = X[:60000],X[60000:],y[:60000],y[60000:]"
      ],
      "execution_count": 6,
      "outputs": []
    },
    {
      "cell_type": "code",
      "metadata": {
        "id": "p-ESdNu8gw_E",
        "outputId": "e12423c2-a1b9-432e-d9e2-3b7e61f7a677",
        "colab": {
          "base_uri": "https://localhost:8080/",
          "height": 84
        }
      },
      "source": [
        "# Binary classifier to classify each image as 5 or not 5\n",
        "y_train_5 = (y_train==5)\n",
        "y_test_5 = (y_test==5)\n",
        "sgd_clf = SGDClassifier(random_state=42)\n",
        "sgd_clf.fit(X_train,y_train_5)\n",
        "print(sgd_clf.predict([digit]))\n",
        "\n",
        "# Cross validation\n",
        "# skfolds = StratifiedKFold(n_splits=3,random_state=42)\n",
        "\n",
        "# for train_index,test_index in skfolds.split(X_train,y_train_5):\n",
        "#   clone_clf = clone(sgd_clf)\n",
        "#   X_train_folds = X_train[train_index]\n",
        "#   y_train_folds = y_train_5[train_index]\n",
        "#   X_test_fold = X_train[test_index]\n",
        "#   y_test_fold = y_train_5[test_index]\n",
        "\n",
        "#   clone_clf.fit(X_train_folds,y_train_folds)\n",
        "#   y_pred = clone_clf.predict(X_test_fold)\n",
        "#   n_correct = sum(y_pred == y_test_fold)\n",
        "#   print(n_correct/len(y_pred))\n",
        "\n",
        "# sklearn function for cross validation score\n",
        "cross_val_score(sgd_clf,X_train,y_train_5,cv=3,scoring='accuracy',verbose=1,n_jobs=-1)\n"
      ],
      "execution_count": 7,
      "outputs": [
        {
          "output_type": "stream",
          "text": [
            "[ True]\n"
          ],
          "name": "stdout"
        },
        {
          "output_type": "stream",
          "text": [
            "[Parallel(n_jobs=-1)]: Using backend LokyBackend with 2 concurrent workers.\n",
            "[Parallel(n_jobs=-1)]: Done   3 out of   3 | elapsed:   20.8s finished\n"
          ],
          "name": "stderr"
        },
        {
          "output_type": "execute_result",
          "data": {
            "text/plain": [
              "array([0.95035, 0.96035, 0.9604 ])"
            ]
          },
          "metadata": {
            "tags": []
          },
          "execution_count": 7
        }
      ]
    },
    {
      "cell_type": "code",
      "metadata": {
        "id": "aX_p5y2Opv9G",
        "outputId": "7a0b3d7b-2d01-498e-d0a6-518a0e087839",
        "colab": {
          "base_uri": "https://localhost:8080/",
          "height": 118
        }
      },
      "source": [
        "# Confusion matrix to evaluate performance. It is better than using accuracy as a parameter\n",
        "y_train_pred = cross_val_predict(sgd_clf,X_train,y_train_5,cv=3,verbose=1,n_jobs=-1)\n",
        "y_train_pred.shape\n",
        "conf_mx = confusion_matrix(y_train_5,y_train_pred)\n",
        "print(conf_mx)\n",
        "print(precision_score(y_train_5,y_train_pred))\n",
        "print(recall_score(y_train_5,y_train_pred))"
      ],
      "execution_count": 8,
      "outputs": [
        {
          "output_type": "stream",
          "text": [
            "[Parallel(n_jobs=-1)]: Using backend LokyBackend with 2 concurrent workers.\n"
          ],
          "name": "stderr"
        },
        {
          "output_type": "stream",
          "text": [
            "[[53892   687]\n",
            " [ 1891  3530]]\n",
            "0.8370879772350012\n",
            "0.6511713705958311\n"
          ],
          "name": "stdout"
        },
        {
          "output_type": "stream",
          "text": [
            "[Parallel(n_jobs=-1)]: Done   3 out of   3 | elapsed:   19.8s finished\n"
          ],
          "name": "stderr"
        }
      ]
    },
    {
      "cell_type": "code",
      "metadata": {
        "id": "NWplIm5_B3rS",
        "outputId": "e5af8225-63d5-4ab3-f29d-03a31f5eefd3",
        "colab": {
          "base_uri": "https://localhost:8080/",
          "height": 317
        }
      },
      "source": [
        "# Precision vs Recall\n",
        "def plot_precision_vs_recall(precisions,recalls,thresholds):\n",
        "  plt.plot(thresholds,precisions[:-1],\"b--\",label=\"Precision\")\n",
        "  plt.plot(thresholds,recalls[:-1],\"g-\",label=\"Recall\")\n",
        "  plt.xlabel(\"Threshold\")\n",
        "  plt.legend(loc=\"upper left\")\n",
        "  plt.ylim([0,1])\n",
        "\n",
        "y_scores = cross_val_predict(sgd_clf,X_train,y_train_5,cv=3,method='decision_function',verbose=1,n_jobs=-1)\n",
        "precisions,recalls,thresholds = precision_recall_curve(y_train_5,y_scores)\n",
        "plot_precision_vs_recall(precisions,recalls,thresholds)\n",
        "plt.show()"
      ],
      "execution_count": 9,
      "outputs": [
        {
          "output_type": "stream",
          "text": [
            "[Parallel(n_jobs=-1)]: Using backend LokyBackend with 2 concurrent workers.\n",
            "[Parallel(n_jobs=-1)]: Done   3 out of   3 | elapsed:   19.9s finished\n"
          ],
          "name": "stderr"
        },
        {
          "output_type": "display_data",
          "data": {
            "image/png": "[encoded data removed]",
            "text/plain": [
              "<Figure size 432x288 with 1 Axes>"
            ]
          },
          "metadata": {
            "tags": [],
            "needs_background": "light"
          }
        }
      ]
    },
    {
      "cell_type": "code",
      "metadata": {
        "id": "a6cTtbAzOf2Q",
        "outputId": "2f65f4ad-5e56-4091-c3f3-039e508dd509",
        "colab": {
          "base_uri": "https://localhost:8080/",
          "height": 282
        }
      },
      "source": [
        "# There is a tradeoff between precision and recall. When one rises, the other falls\n",
        "plt.plot(precisions,recalls)"
      ],
      "execution_count": 10,
      "outputs": [
        {
          "output_type": "execute_result",
          "data": {
            "text/plain": [
              "[<matplotlib.lines.Line2D at 0x7f8df42ff390>]"
            ]
          },
          "metadata": {
            "tags": []
          },
          "execution_count": 10
        },
        {
          "output_type": "display_data",
          "data": {
            "image/png": "[encoded data removed]",
            "text/plain": [
              "<Figure size 432x288 with 1 Axes>"
            ]
          },
          "metadata": {
            "tags": [],
            "needs_background": "light"
          }
        }
      ]
    },
    {
      "cell_type": "code",
      "metadata": {
        "id": "grN88ozTSUv9",
        "outputId": "e77d8ca7-6841-45e8-99cc-a02eda13a531",
        "colab": {
          "base_uri": "https://localhost:8080/",
          "height": 300
        }
      },
      "source": [
        "# ROC curve\n",
        "def plot_roc_curve(fpr,tpr,label=None):\n",
        "  plt.plot(fpr,tpr,linewidth=2,label=label)\n",
        "  plt.plot([0,1],[0,1],'k--')\n",
        "  plt.axis([0,1,0,1])\n",
        "  plt.xlabel('False Positive Rate')\n",
        "  plt.ylabel('True Positive Rate')\n",
        "fpr,tpr,thresholds = roc_curve(y_train_5,y_scores)\n",
        "plot_roc_curve(fpr,tpr)\n",
        "plt.show() \n",
        "roc_auc_score(y_train_5,y_scores)   # Higher the better"
      ],
      "execution_count": 11,
      "outputs": [
        {
          "output_type": "display_data",
          "data": {
            "image/png": "[encoded data removed]",
            "text/plain": [
              "<Figure size 432x288 with 1 Axes>"
            ]
          },
          "metadata": {
            "tags": [],
            "needs_background": "light"
          }
        },
        {
          "output_type": "execute_result",
          "data": {
            "text/plain": [
              "0.9604938554008616"
            ]
          },
          "metadata": {
            "tags": []
          },
          "execution_count": 11
        }
      ]
    },
    {
      "cell_type": "code",
      "metadata": {
        "id": "olr1FvZBV83m",
        "outputId": "69fb9653-c0a9-4aee-fda9-8be8187c5355",
        "colab": {
          "base_uri": "https://localhost:8080/",
          "height": 317
        }
      },
      "source": [
        "# Random forest binary classifier(5 or not 5)\n",
        "\n",
        "forest_clf = RandomForestClassifier(random_state=42)\n",
        "y_probas_forest = cross_val_predict(forest_clf,X_train,y_train_5,cv=3,method=\"predict_proba\",verbose=1,n_jobs=-1)\n",
        "y_scores_forest = y_probas_forest[:,1]\n",
        "fpr_forest,tpr_forest,thresholds_forest = roc_curve(y_train_5,y_scores_forest)\n",
        "plt.plot(fpr,tpr,'b:',label='SGD')\n",
        "plot_roc_curve(fpr_forest,tpr_forest,\"Random Forest\")\n",
        "plt.legend(loc=\"lower right\")\n",
        "plt.show()"
      ],
      "execution_count": 12,
      "outputs": [
        {
          "output_type": "stream",
          "text": [
            "[Parallel(n_jobs=-1)]: Using backend LokyBackend with 2 concurrent workers.\n",
            "[Parallel(n_jobs=-1)]: Done   3 out of   3 | elapsed:   54.0s finished\n"
          ],
          "name": "stderr"
        },
        {
          "output_type": "display_data",
          "data": {
            "image/png": "[encoded data removed]",
            "text/plain": [
              "<Figure size 432x288 with 1 Axes>"
            ]
          },
          "metadata": {
            "tags": [],
            "needs_background": "light"
          }
        }
      ]
    },
    {
      "cell_type": "code",
      "metadata": {
        "id": "cL0EvxFTe0H8",
        "outputId": "94f6864f-db11-4d53-911e-a28568258c42",
        "colab": {
          "base_uri": "https://localhost:8080/",
          "height": 34
        }
      },
      "source": [
        "# Random forest classifier performs better than SGD classifier\n",
        "roc_auc_score(y_train_5,y_scores_forest)"
      ],
      "execution_count": 13,
      "outputs": [
        {
          "output_type": "execute_result",
          "data": {
            "text/plain": [
              "0.9983436731328145"
            ]
          },
          "metadata": {
            "tags": []
          },
          "execution_count": 13
        }
      ]
    },
    {
      "cell_type": "markdown",
      "metadata": {
        "id": "c_SDOlkpgoQg"
      },
      "source": [
        "#Multiclass Classification"
      ]
    },
    {
      "cell_type": "code",
      "metadata": {
        "id": "Bq9t9V0Kfuxy",
        "outputId": "bffbd217-0466-48d4-e3dd-41083c37d6c5",
        "colab": {
          "base_uri": "https://localhost:8080/",
          "height": 67
        }
      },
      "source": [
        "# SGD classifier for multi class classification with cross validation scores\n",
        "sgd_clf = SGDClassifier(random_state = 42)\n",
        "scaler = StandardScaler()\n",
        "X_train_scaled = scaler.fit_transform(X_train.astype(np.float64))\n",
        "sgd_clf = SGDClassifier(random_state = 42)\n",
        "sgd_clf.fit(X_train,y_train) \n",
        "print(cross_val_score(sgd_clf,X_train_scaled,y_train,cv=3,scoring=\"accuracy\",verbose=1,n_jobs=-1))"
      ],
      "execution_count": 14,
      "outputs": [
        {
          "output_type": "stream",
          "text": [
            "[Parallel(n_jobs=-1)]: Using backend LokyBackend with 2 concurrent workers.\n"
          ],
          "name": "stderr"
        },
        {
          "output_type": "stream",
          "text": [
            "[0.8983 0.891  0.9018]\n"
          ],
          "name": "stdout"
        },
        {
          "output_type": "stream",
          "text": [
            "[Parallel(n_jobs=-1)]: Done   3 out of   3 | elapsed:  9.1min finished\n"
          ],
          "name": "stderr"
        }
      ]
    },
    {
      "cell_type": "code",
      "metadata": {
        "id": "XWhieQl7eb1Q",
        "outputId": "321d0868-de6c-4b47-b25a-7600dcf0af48",
        "colab": {
          "base_uri": "https://localhost:8080/",
          "height": 477
        }
      },
      "source": [
        "y_train_pred = cross_val_predict(sgd_clf,X_train_scaled,y_train,cv=3,verbose=2,n_jobs=-1)\n",
        "conf_mx = confusion_matrix(y_train,y_train_pred)          # conf_mx[i][j] = number of i's that were predicted as j\n",
        "print(conf_mx)\n",
        "plt.matshow(conf_mx,cmap = plt.cm.gray)\n",
        "plt.show()"
      ],
      "execution_count": 15,
      "outputs": [
        {
          "output_type": "stream",
          "text": [
            "[Parallel(n_jobs=-1)]: Using backend LokyBackend with 2 concurrent workers.\n",
            "[Parallel(n_jobs=-1)]: Done   3 out of   3 | elapsed:  9.1min finished\n"
          ],
          "name": "stderr"
        },
        {
          "output_type": "stream",
          "text": [
            "[[5577    0   22    5    8   43   36    6  225    1]\n",
            " [   0 6400   37   24    4   44    4    7  212   10]\n",
            " [  27   27 5220   92   73   27   67   36  378   11]\n",
            " [  22   17  117 5227    2  203   27   40  403   73]\n",
            " [  12   14   41    9 5182   12   34   27  347  164]\n",
            " [  27   15   30  168   53 4444   75   14  535   60]\n",
            " [  30   15   42    3   44   97 5552    3  131    1]\n",
            " [  21   10   51   30   49   12    3 5684  195  210]\n",
            " [  17   63   48   86    3  126   25   10 5429   44]\n",
            " [  25   18   30   64  118   36    1  179  371 5107]]\n"
          ],
          "name": "stdout"
        },
        {
          "output_type": "display_data",
          "data": {
            "image/png": "[encoded data removed]",
            "text/plain": [
              "<Figure size 288x288 with 1 Axes>"
            ]
          },
          "metadata": {
            "tags": [],
            "needs_background": "light"
          }
        }
      ]
    },
    {
      "cell_type": "code",
      "metadata": {
        "id": "AenjNTzDrfYB",
        "outputId": "c18d4d7f-6d48-433b-90c4-b285cfe76468",
        "colab": {
          "base_uri": "https://localhost:8080/",
          "height": 275
        }
      },
      "source": [
        "# Plot error rates instead of absolute number of errors\n",
        "row_sums = conf_mx.sum(axis=1,keepdims=True)\n",
        "# print(row_sums)\n",
        "norm_conf_mx = conf_mx/row_sums\n",
        "np.fill_diagonal(norm_conf_mx,0)        # Fill diagonal elements with 0 as they represent true positives only\n",
        "plt.matshow(norm_conf_mx,cmap=plt.cm.gray)\n",
        "plt.show()\n",
        "# Lot of images are falsely classified as 8"
      ],
      "execution_count": 16,
      "outputs": [
        {
          "output_type": "display_data",
          "data": {
            "image/png": "[encoded data removed]",
            "text/plain": [
              "<Figure size 288x288 with 1 Axes>"
            ]
          },
          "metadata": {
            "tags": [],
            "needs_background": "light"
          }
        }
      ]
    },
    {
      "cell_type": "markdown",
      "metadata": {
        "id": "at7pQvn7sp5v"
      },
      "source": [
        "#Multilabel Classification"
      ]
    },
    {
      "cell_type": "code",
      "metadata": {
        "id": "oM_E9QCdqoYn",
        "outputId": "ba1e8ab5-24e0-435c-8917-1703cca727a4",
        "colab": {
          "base_uri": "https://localhost:8080/",
          "height": 67
        }
      },
      "source": [
        "# Classifier to predict if the number is greater than 6 and odd\n",
        "y_train_large = (y_train > 6)\n",
        "y_train_odd = (y_train % 2 == 1)\n",
        "y_multilabel = np.c_[y_train_large,y_train_odd]\n",
        "\n",
        "knn_clf = KNeighborsClassifier()\n",
        "knn_clf.fit(X_train,y_multilabel)\n",
        "knn_clf.predict([digit])\n",
        "y_train_knn_pred = cross_val_predict(knn_clf,X_train,y_multilabel,cv=3,verbose=2,n_jobs=-1)\n",
        "f1_score(y_multilabel,y_train_knn_pred,average='macro')      # f1 score is the harmonic mean of precision and recall"
      ],
      "execution_count": 22,
      "outputs": [
        {
          "output_type": "stream",
          "text": [
            "[Parallel(n_jobs=-1)]: Using backend LokyBackend with 2 concurrent workers.\n",
            "[Parallel(n_jobs=-1)]: Done   3 out of   3 | elapsed: 54.7min finished\n"
          ],
          "name": "stderr"
        },
        {
          "output_type": "execute_result",
          "data": {
            "text/plain": [
              "0.976410265560605"
            ]
          },
          "metadata": {
            "tags": []
          },
          "execution_count": 22
        }
      ]
    },
    {
      "cell_type": "code",
      "metadata": {
        "id": "0Z-aJL-TubLz",
        "outputId": "ac359bcc-566a-4bec-d3a1-7eb61a3d21c1",
        "colab": {
          "base_uri": "https://localhost:8080/",
          "height": 34
        }
      },
      "source": [
        "# f1_score(y_multilabel,y_train_knn_pred)\n",
        "knn_clf.predict([digit])"
      ],
      "execution_count": 20,
      "outputs": [
        {
          "output_type": "execute_result",
          "data": {
            "text/plain": [
              "array([[False,  True]])"
            ]
          },
          "metadata": {
            "tags": []
          },
          "execution_count": 20
        }
      ]
    },
    {
      "cell_type": "code",
      "metadata": {
        "id": "IzaaYsNKrAZT"
      },
      "source": [
        ""
      ],
      "execution_count": null,
      "outputs": []
    }
  ]
}