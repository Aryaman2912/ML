{
  "nbformat": 4,
  "nbformat_minor": 0,
  "metadata": {
    "colab": {
      "name": "Alexnet.ipynb",
      "provenance": [],
      "collapsed_sections": [],
      "authorship_tag": "ABX9TyMWv8Vos0ksKeVPCZq8Nxpf",
      "include_colab_link": true
    },
    "kernelspec": {
      "name": "python3",
      "display_name": "Python 3"
    },
    "accelerator": "GPU"
  },
  "cells": [
    {
      "cell_type": "markdown",
      "metadata": {
        "id": "view-in-github",
        "colab_type": "text"
      },
      "source": [
        "<a href=\"https://colab.research.google.com/github/Aryaman2912/ML/blob/master/Alexnet.ipynb\" target=\"_parent\"><img src=\"https://colab.research.google.com/assets/colab-badge.svg\" alt=\"Open In Colab\"/></a>"
      ]
    },
    {
      "cell_type": "code",
      "metadata": {
        "id": "yH3U2lhJRXjD"
      },
      "source": [
        "# Import necessary packages and modules\n",
        "import numpy as np\n",
        "import pandas as pd\n",
        "import tensorflow as tf\n",
        "import matplotlib.pyplot as plt\n",
        "import matplotlib.image as mpimg\n",
        "import seaborn as sns\n",
        "from tensorflow import keras\n",
        "from sklearn.model_selection import train_test_split\n",
        "import itertools"
      ],
      "execution_count": 1,
      "outputs": []
    },
    {
      "cell_type": "code",
      "metadata": {
        "colab": {
          "base_uri": "https://localhost:8080/"
        },
        "id": "DUuhPbt1SsL5",
        "outputId": "8feb1eae-b5ab-4d01-c85a-1260e9514e3c"
      },
      "source": [
        "device_name = tf.test.gpu_device_name()\n",
        "if device_name != '/device:GPU:0':\n",
        "  raise SystemError('GPU device not found')\n",
        "print('Found GPU at: {}'.format(device_name))"
      ],
      "execution_count": 2,
      "outputs": [
        {
          "output_type": "stream",
          "text": [
            "Found GPU at: /device:GPU:0\n"
          ],
          "name": "stdout"
        }
      ]
    },
    {
      "cell_type": "code",
      "metadata": {
        "id": "Ej2v39CUTFFM",
        "colab": {
          "base_uri": "https://localhost:8080/"
        },
        "outputId": "2d82bada-30be-42cb-92a4-ccac155b551b"
      },
      "source": [
        "# Fetch CIFAR10 dataset\n",
        "from keras.datasets import cifar10\n",
        "(train_X,train_y),(test_X,test_y) = cifar10.load_data()"
      ],
      "execution_count": 3,
      "outputs": [
        {
          "output_type": "stream",
          "text": [
            "Downloading data from https://www.cs.toronto.edu/~kriz/cifar-10-python.tar.gz\n",
            "170500096/170498071 [==============================] - 2s 0us/step\n"
          ],
          "name": "stdout"
        }
      ]
    },
    {
      "cell_type": "code",
      "metadata": {
        "id": "fV1hudNg14pY"
      },
      "source": [
        "classes= ['airplane', 'automobile', 'bird', 'cat', 'deer', 'dog', 'frog', 'horse', 'ship', 'truck']\n",
        "train_X,val_X,train_y,val_y = train_test_split(train_X,train_y,test_size=0.04,random_state=42)\n",
        "# Training is done on a truncated dataset cuz the entire dataset takes too much ram when the images are resized(can be fixed hopefully).\n",
        "train_X,train_y = train_X[:15000],train_y[:15000]"
      ],
      "execution_count": 4,
      "outputs": []
    },
    {
      "cell_type": "code",
      "metadata": {
        "id": "DH0gzzfKGGrz"
      },
      "source": [
        "# Data preprocessing\n",
        "\n",
        "# Resize images to 227x227 as that is the input needed for Alexnet architecture\n",
        "def process_images(image, label):\n",
        "  image = tf.image.per_image_standardization(image)\n",
        "  image = tf.image.resize(image,(227,227))\n",
        "  return image,label\n",
        "\n",
        "train_ds = tf.data.Dataset.from_tensor_slices((train_X,train_y))\n",
        "test_ds = tf.data.Dataset.from_tensor_slices((test_X,test_y))\n",
        "val_ds = tf.data.Dataset.from_tensor_slices((val_X,val_y))\n",
        "\n",
        "train_ds_size = tf.data.experimental.cardinality(train_ds).numpy()\n",
        "test_ds_size = tf.data.experimental.cardinality(test_ds).numpy()\n",
        "val_ds_size = tf.data.experimental.cardinality(val_ds).numpy()\n",
        "\n",
        "train_ds = (train_ds\n",
        "                  .map(process_images)\n",
        "                  .shuffle(buffer_size=train_ds_size)\n",
        "                  .batch(batch_size=64,drop_remainder=True))\n",
        "test_ds = (test_ds\n",
        "                  .map(process_images)\n",
        "                  .shuffle(buffer_size=test_ds_size)\n",
        "                  .batch(batch_size=64,drop_remainder=True))\n",
        "val_ds = (val_ds\n",
        "                  .map(process_images)\n",
        "                  .shuffle(buffer_size=val_ds_size)\n",
        "                  .batch(batch_size=64,drop_remainder=True))"
      ],
      "execution_count": 5,
      "outputs": []
    },
    {
      "cell_type": "code",
      "metadata": {
        "id": "TguEg-mTL_E-",
        "colab": {
          "base_uri": "https://localhost:8080/",
          "height": 502
        },
        "outputId": "2bf85de8-b8d5-44d6-c787-a9e2750e7ee7"
      },
      "source": [
        "plt.figure(figsize=(8,8))\n",
        "for i in range(9):\n",
        "  plt.subplot(3,3,i+1)\n",
        "  plt.imshow(train_X[i])\n",
        "plt.show()\n",
        "\n",
        "print(train_X.shape)"
      ],
      "execution_count": 6,
      "outputs": [
        {
          "output_type": "display_data",
          "data": {
            "image/png": "[encoded data removed]",
            "text/plain": [
              "<Figure size 576x576 with 9 Axes>"
            ]
          },
          "metadata": {
            "tags": [],
            "needs_background": "light"
          }
        },
        {
          "output_type": "stream",
          "text": [
            "(15000, 32, 32, 3)\n"
          ],
          "name": "stdout"
        }
      ]
    },
    {
      "cell_type": "code",
      "metadata": {
        "id": "z7FgpsKsTw8P"
      },
      "source": [
        "# The model below contains the Alexnet architecture\n",
        "\n",
        "model = tf.keras.Sequential([\n",
        "    # CNN 1 followed by Batch normalization and Max pooling layers                         \n",
        "    keras.layers.Conv2D(filters = 96, kernel_size = (11,11), strides = (4,4), activation = 'relu', input_shape = (227,227,3), padding = 'valid'),\n",
        "    keras.layers.BatchNormalization(),\n",
        "    keras.layers.MaxPool2D(pool_size = (3,3), strides = (2,2), padding = 'valid'),\n",
        "\n",
        "    # CNN 2 followed by Batch normalization and max pooling layers\n",
        "    keras.layers.Conv2D(filters = 256, kernel_size = (5,5), strides = (1,1), activation = 'relu', padding = 'same'),\n",
        "    keras.layers.BatchNormalization(),\n",
        "    keras.layers.MaxPool2D(pool_size = (3,3), strides = (2,2), padding = 'valid'),\n",
        "\n",
        "    # CNN 3 followed by batch normalization\n",
        "    keras.layers.Conv2D(filters = 384, kernel_size = (3,3), strides = (1,1), activation = 'relu', padding = 'same'),\n",
        "    keras.layers.BatchNormalization(),\n",
        "\n",
        "    # CNN 4 followed by batch normalization\n",
        "    keras.layers.Conv2D(filters = 384, kernel_size = (3,3), strides = (1,1), activation = 'relu', padding = 'same'),\n",
        "    keras.layers.BatchNormalization(),\n",
        "\n",
        "    # CNN 5 followed by batch normalization and max pooling layers\n",
        "    keras.layers.Conv2D(filters = 256, kernel_size = (3,3), strides = (1,1), activation = 'relu', padding = 'same'),\n",
        "    keras.layers.BatchNormalization(),\n",
        "    keras.layers.MaxPool2D(pool_size = (3,3), strides = (2,2)),\n",
        "\n",
        "    # Flatten the output of the CNN to one dimension\n",
        "    keras.layers.Flatten(),\n",
        "\n",
        "    # fully connected layer 1 with dropout and batch normalization layers\n",
        "    keras.layers.Dense(4096, activation = 'relu'),\n",
        "    keras.layers.Dropout(0.4),\n",
        "    keras.layers.BatchNormalization(),\n",
        "\n",
        "    # fully connected layer 2 with dropout and batch normalization layers\n",
        "    keras.layers.Dense(4096, activation = 'relu'),\n",
        "    keras.layers.Dropout(0.4),\n",
        "    keras.layers.BatchNormalization(),\n",
        "\n",
        "    # fully connected layer 3 with softmax output\n",
        "    keras.layers.Dense(10, activation = 'softmax')\n",
        "])"
      ],
      "execution_count": 7,
      "outputs": []
    },
    {
      "cell_type": "code",
      "metadata": {
        "id": "srTdFt8wVk53",
        "colab": {
          "base_uri": "https://localhost:8080/"
        },
        "outputId": "5cb0b05e-5929-4ef7-a6a0-7e31dd129ea0"
      },
      "source": [
        "model.compile(optimizer='adam',loss='sparse_categorical_crossentropy',metrics=['acc'])\n",
        "model.summary()"
      ],
      "execution_count": 8,
      "outputs": [
        {
          "output_type": "stream",
          "text": [
            "Model: \"sequential\"\n",
            "_________________________________________________________________\n",
            "Layer (type)                 Output Shape              Param #   \n",
            "=================================================================\n",
            "conv2d (Conv2D)              (None, 55, 55, 96)        34944     \n",
            "_________________________________________________________________\n",
            "batch_normalization (BatchNo (None, 55, 55, 96)        384       \n",
            "_________________________________________________________________\n",
            "max_pooling2d (MaxPooling2D) (None, 27, 27, 96)        0         \n",
            "_________________________________________________________________\n",
            "conv2d_1 (Conv2D)            (None, 27, 27, 256)       614656    \n",
            "_________________________________________________________________\n",
            "batch_normalization_1 (Batch (None, 27, 27, 256)       1024      \n",
            "_________________________________________________________________\n",
            "max_pooling2d_1 (MaxPooling2 (None, 13, 13, 256)       0         \n",
            "_________________________________________________________________\n",
            "conv2d_2 (Conv2D)            (None, 13, 13, 384)       885120    \n",
            "_________________________________________________________________\n",
            "batch_normalization_2 (Batch (None, 13, 13, 384)       1536      \n",
            "_________________________________________________________________\n",
            "conv2d_3 (Conv2D)            (None, 13, 13, 384)       1327488   \n",
            "_________________________________________________________________\n",
            "batch_normalization_3 (Batch (None, 13, 13, 384)       1536      \n",
            "_________________________________________________________________\n",
            "conv2d_4 (Conv2D)            (None, 13, 13, 256)       884992    \n",
            "_________________________________________________________________\n",
            "batch_normalization_4 (Batch (None, 13, 13, 256)       1024      \n",
            "_________________________________________________________________\n",
            "max_pooling2d_2 (MaxPooling2 (None, 6, 6, 256)         0         \n",
            "_________________________________________________________________\n",
            "flatten (Flatten)            (None, 9216)              0         \n",
            "_________________________________________________________________\n",
            "dense (Dense)                (None, 4096)              37752832  \n",
            "_________________________________________________________________\n",
            "dropout (Dropout)            (None, 4096)              0         \n",
            "_________________________________________________________________\n",
            "batch_normalization_5 (Batch (None, 4096)              16384     \n",
            "_________________________________________________________________\n",
            "dense_1 (Dense)              (None, 4096)              16781312  \n",
            "_________________________________________________________________\n",
            "dropout_1 (Dropout)          (None, 4096)              0         \n",
            "_________________________________________________________________\n",
            "batch_normalization_6 (Batch (None, 4096)              16384     \n",
            "_________________________________________________________________\n",
            "dense_2 (Dense)              (None, 10)                40970     \n",
            "=================================================================\n",
            "Total params: 58,360,586\n",
            "Trainable params: 58,341,450\n",
            "Non-trainable params: 19,136\n",
            "_________________________________________________________________\n"
          ],
          "name": "stdout"
        }
      ]
    },
    {
      "cell_type": "code",
      "metadata": {
        "colab": {
          "base_uri": "https://localhost:8080/"
        },
        "id": "uQ7h1pPmDP-4",
        "outputId": "54772601-3cb5-4f03-ded1-972725b53cbf"
      },
      "source": [
        "history = model.fit(train_ds,epochs = 30,batch_size=64,validation_data = val_ds,verbose=1)"
      ],
      "execution_count": 9,
      "outputs": [
        {
          "output_type": "stream",
          "text": [
            "Epoch 1/30\n",
            "234/234 [==============================] - 47s 111ms/step - loss: 2.9497 - acc: 0.2745 - val_loss: 2.0372 - val_acc: 0.3710\n",
            "Epoch 2/30\n",
            "234/234 [==============================] - 36s 108ms/step - loss: 1.8535 - acc: 0.4130 - val_loss: 2.3369 - val_acc: 0.4299\n",
            "Epoch 3/30\n",
            "234/234 [==============================] - 34s 104ms/step - loss: 1.6997 - acc: 0.4683 - val_loss: 1.4362 - val_acc: 0.5207\n",
            "Epoch 4/30\n",
            "234/234 [==============================] - 34s 105ms/step - loss: 1.4527 - acc: 0.5260 - val_loss: 1.5439 - val_acc: 0.5222\n",
            "Epoch 5/30\n",
            "234/234 [==============================] - 34s 105ms/step - loss: 1.3351 - acc: 0.5639 - val_loss: 1.3454 - val_acc: 0.5680\n",
            "Epoch 6/30\n",
            "234/234 [==============================] - 34s 104ms/step - loss: 1.2401 - acc: 0.6038 - val_loss: 1.4344 - val_acc: 0.5640\n",
            "Epoch 7/30\n",
            "234/234 [==============================] - 34s 105ms/step - loss: 1.1294 - acc: 0.6310 - val_loss: 1.4817 - val_acc: 0.5504\n",
            "Epoch 8/30\n",
            "234/234 [==============================] - 34s 104ms/step - loss: 1.0128 - acc: 0.6652 - val_loss: 1.6231 - val_acc: 0.5494\n",
            "Epoch 9/30\n",
            "234/234 [==============================] - 34s 104ms/step - loss: 1.0953 - acc: 0.6454 - val_loss: 1.1754 - val_acc: 0.6013\n",
            "Epoch 10/30\n",
            "234/234 [==============================] - 34s 104ms/step - loss: 0.9309 - acc: 0.6966 - val_loss: 1.3544 - val_acc: 0.5665\n",
            "Epoch 11/30\n",
            "234/234 [==============================] - 34s 104ms/step - loss: 0.8857 - acc: 0.7123 - val_loss: 1.3732 - val_acc: 0.6230\n",
            "Epoch 12/30\n",
            "234/234 [==============================] - 34s 104ms/step - loss: 0.7339 - acc: 0.7510 - val_loss: 1.3729 - val_acc: 0.5958\n",
            "Epoch 13/30\n",
            "234/234 [==============================] - 34s 104ms/step - loss: 0.6803 - acc: 0.7743 - val_loss: 1.3175 - val_acc: 0.5847\n",
            "Epoch 14/30\n",
            "234/234 [==============================] - 34s 104ms/step - loss: 0.6172 - acc: 0.7961 - val_loss: 1.2685 - val_acc: 0.6326\n",
            "Epoch 15/30\n",
            "234/234 [==============================] - 34s 104ms/step - loss: 0.5001 - acc: 0.8351 - val_loss: 1.4131 - val_acc: 0.6512\n",
            "Epoch 16/30\n",
            "234/234 [==============================] - 34s 104ms/step - loss: 0.4826 - acc: 0.8414 - val_loss: 1.3190 - val_acc: 0.6416\n",
            "Epoch 17/30\n",
            "234/234 [==============================] - 34s 104ms/step - loss: 0.4764 - acc: 0.8436 - val_loss: 1.3910 - val_acc: 0.6310\n",
            "Epoch 18/30\n",
            "234/234 [==============================] - 34s 104ms/step - loss: 0.4425 - acc: 0.8512 - val_loss: 1.3357 - val_acc: 0.6326\n",
            "Epoch 19/30\n",
            "234/234 [==============================] - 34s 104ms/step - loss: 0.3881 - acc: 0.8720 - val_loss: 1.4723 - val_acc: 0.6436\n",
            "Epoch 20/30\n",
            "234/234 [==============================] - 34s 104ms/step - loss: 0.3552 - acc: 0.8820 - val_loss: 1.3349 - val_acc: 0.6694\n",
            "Epoch 21/30\n",
            "234/234 [==============================] - 34s 104ms/step - loss: 0.2832 - acc: 0.9063 - val_loss: 1.3828 - val_acc: 0.6789\n",
            "Epoch 22/30\n",
            "234/234 [==============================] - 34s 105ms/step - loss: 0.2677 - acc: 0.9127 - val_loss: 1.6426 - val_acc: 0.6426\n",
            "Epoch 23/30\n",
            "234/234 [==============================] - 34s 105ms/step - loss: 0.3048 - acc: 0.8953 - val_loss: 1.7209 - val_acc: 0.5953\n",
            "Epoch 24/30\n",
            "234/234 [==============================] - 34s 105ms/step - loss: 0.3287 - acc: 0.8919 - val_loss: 1.8617 - val_acc: 0.6759\n",
            "Epoch 25/30\n",
            "234/234 [==============================] - 34s 105ms/step - loss: 0.2292 - acc: 0.9225 - val_loss: 1.7470 - val_acc: 0.6714\n",
            "Epoch 26/30\n",
            "234/234 [==============================] - 35s 104ms/step - loss: 0.2313 - acc: 0.9240 - val_loss: 1.8398 - val_acc: 0.6361\n",
            "Epoch 27/30\n",
            "234/234 [==============================] - 34s 103ms/step - loss: 0.2428 - acc: 0.9239 - val_loss: 1.8833 - val_acc: 0.6588\n",
            "Epoch 28/30\n",
            "234/234 [==============================] - 33s 103ms/step - loss: 0.1838 - acc: 0.9393 - val_loss: 1.7339 - val_acc: 0.6638\n",
            "Epoch 29/30\n",
            "234/234 [==============================] - 33s 103ms/step - loss: 0.1499 - acc: 0.9493 - val_loss: 2.0249 - val_acc: 0.6396\n",
            "Epoch 30/30\n",
            "234/234 [==============================] - 33s 103ms/step - loss: 0.2299 - acc: 0.9319 - val_loss: 2.1130 - val_acc: 0.6568\n"
          ],
          "name": "stdout"
        }
      ]
    },
    {
      "cell_type": "code",
      "metadata": {
        "id": "Jjka5ESrDSum",
        "colab": {
          "base_uri": "https://localhost:8080/"
        },
        "outputId": "aced95b4-2bc4-41a6-f644-807660ff9526"
      },
      "source": [
        "score,acc = model.evaluate(test_ds)"
      ],
      "execution_count": 10,
      "outputs": [
        {
          "output_type": "stream",
          "text": [
            "156/156 [==============================] - 12s 40ms/step - loss: 1.9901 - acc: 0.6430\n"
          ],
          "name": "stdout"
        }
      ]
    },
    {
      "cell_type": "code",
      "metadata": {
        "id": "er69UgpOD8T9",
        "colab": {
          "base_uri": "https://localhost:8080/"
        },
        "outputId": "72514684-f85a-4439-df6a-80ce9cd25bd2"
      },
      "source": [
        "print(f\"Accuracy on test set is: {acc*100}%\")"
      ],
      "execution_count": 13,
      "outputs": [
        {
          "output_type": "stream",
          "text": [
            "Accuracy on test set is: 64.30288553237915%\n"
          ],
          "name": "stdout"
        }
      ]
    },
    {
      "cell_type": "markdown",
      "metadata": {
        "id": "9zhn6jTPieS3"
      },
      "source": [
        "# Reasons for low accuracy on test set?\n",
        "\n",
        "\n",
        "1.   The Alexnet architecture needs 227x227 sized images for training whereas CIFAR10 dataset contains images of size 32x32. Resizing 32x32 to 227x227 might result in loss of features.\n",
        "2.   The CIFAR10 contains 50000 but I have trained it only on 15000 images(Colab crashes beyond this).\n",
        "3.   Overfitting\n",
        "\n",
        "\n",
        "\n"
      ]
    },
    {
      "cell_type": "code",
      "metadata": {
        "id": "wtod6hz1Rhdo"
      },
      "source": [
        ""
      ],
      "execution_count": 11,
      "outputs": []
    }
  ]
}